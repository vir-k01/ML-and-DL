{
  "nbformat": 4,
  "nbformat_minor": 0,
  "metadata": {
    "colab": {
      "name": "MNIST - CNN",
      "provenance": []
    },
    "kernelspec": {
      "name": "python3",
      "display_name": "Python 3"
    }
  },
  "cells": [
    {
      "cell_type": "markdown",
      "metadata": {
        "id": "X671ZG-3jTRv"
      },
      "source": [
        "## MNIST Digit Classification using a CNN "
      ]
    },
    {
      "cell_type": "code",
      "metadata": {
        "id": "m4gr07GDdS_u"
      },
      "source": [
        "from __future__ import absolute_import, division, print_function, unicode_literals\n",
        "\n",
        "# Install TensorFlow\n",
        "try:\n",
        "  # %tensorflow_version only exists in Colab.\n",
        "  %tensorflow_version 2.x\n",
        "except Exception:\n",
        "  pass\n",
        "\n",
        "import tensorflow as tf\n",
        "from tensorflow import keras\n",
        "import cv2\n",
        "import numpy as np\n",
        "import matplotlib.pyplot as plt\n"
      ],
      "execution_count": 7,
      "outputs": []
    },
    {
      "cell_type": "code",
      "metadata": {
        "id": "oZ_N_-SvdaNF"
      },
      "source": [
        "mnist = tf.keras.datasets.mnist\n",
        "\n",
        "(X_train, y_train), (X_test, y_test) = mnist.load_data()\n",
        "X_train, X_test = X_train / 255.0, X_test / 255.0"
      ],
      "execution_count": 4,
      "outputs": []
    },
    {
      "cell_type": "code",
      "metadata": {
        "id": "BHv63nsOddfp"
      },
      "source": [
        "img_rows , img_cols = 28, 28"
      ],
      "execution_count": 3,
      "outputs": []
    },
    {
      "cell_type": "code",
      "metadata": {
        "id": "URsF-yxldqyD",
        "outputId": "905037a5-b185-48cf-8f8b-a68dc84cc96f",
        "colab": {
          "base_uri": "https://localhost:8080/",
          "height": 68
        }
      },
      "source": [
        "if keras.backend.image_data_format() == 'channels_first':\n",
        "    X_train = X_train.reshape(X_train.shape[0], 1, img_rows, img_cols)\n",
        "    X_test = X_test.reshape(X_test.shape[0], 1, img_rows, img_cols)\n",
        "    input_shape = (1, img_rows, img_cols)\n",
        "else:\n",
        "    X_train = X_train.reshape(X_train.shape[0], img_rows, img_cols, 1)\n",
        "    X_test = X_test.reshape(X_test.shape[0], img_rows, img_cols, 1)\n",
        "    input_shape = (img_rows, img_cols, 1)\n",
        "\n",
        "X_train = X_train.astype('float32')\n",
        "X_test = X_test.astype('float32')\n",
        "X_train /= 255\n",
        "X_test /= 255\n",
        "print('X_train shape:', X_train.shape)\n",
        "print(X_train.shape[0], 'train samples')\n",
        "print(X_test.shape[0], 'test samples')"
      ],
      "execution_count": 8,
      "outputs": [
        {
          "output_type": "stream",
          "text": [
            "X_train shape: (60000, 28, 28, 1)\n",
            "60000 train samples\n",
            "10000 test samples\n"
          ],
          "name": "stdout"
        }
      ]
    },
    {
      "cell_type": "code",
      "metadata": {
        "id": "UwfNmJhqd998",
        "outputId": "dbea0249-3e2b-4159-8417-f1fbbf257ec7",
        "colab": {
          "base_uri": "https://localhost:8080/",
          "height": 34
        }
      },
      "source": [
        "num_category = 10\n",
        "y_train = keras.utils.to_categorical(y_train, num_category)\n",
        "y_test = keras.utils.to_categorical(y_test, num_category)\n",
        "y_train[0]"
      ],
      "execution_count": 9,
      "outputs": [
        {
          "output_type": "execute_result",
          "data": {
            "text/plain": [
              "array([0., 0., 0., 0., 0., 1., 0., 0., 0., 0.], dtype=float32)"
            ]
          },
          "metadata": {
            "tags": []
          },
          "execution_count": 9
        }
      ]
    },
    {
      "cell_type": "code",
      "metadata": {
        "id": "6-6Sx1LNeYgb",
        "outputId": "487ed3dc-9ca1-4375-affb-70323f281604",
        "colab": {
          "base_uri": "https://localhost:8080/",
          "height": 425
        }
      },
      "source": [
        "model = keras.Sequential()\n",
        "#convolutional layer with rectified linear unit activation\n",
        "model.add(keras.layers.Conv2D(32, kernel_size=(3, 3),\n",
        "                 activation='relu',\n",
        "                 input_shape=input_shape))\n",
        "#32 convolution filters used each of size 3x3\n",
        "model.add(keras.layers.Conv2D(64, (3, 3), activation='relu'))\n",
        "#64 convolution filters used each of size 3x3\n",
        "model.add(keras.layers.MaxPooling2D(pool_size=(2, 2)))\n",
        "#add dropout\n",
        "model.add(keras.layers.Dropout(0.25))\n",
        "#flatten\n",
        "model.add(keras.layers.Flatten())\n",
        "model.add(keras.layers.Dense(128, activation='relu'))\n",
        "#dropout\n",
        "model.add(keras.layers.Dropout(0.5))\n",
        "#softmax to output probabilities\n",
        "model.add(keras.layers.Dense(num_category, activation='softmax'))\n",
        "\n",
        "model.compile(loss=keras.losses.categorical_crossentropy,\n",
        "              optimizer=keras.optimizers.Adam(),\n",
        "              metrics=['accuracy'])\n",
        "model.summary()"
      ],
      "execution_count": 13,
      "outputs": [
        {
          "output_type": "stream",
          "text": [
            "Model: \"sequential_2\"\n",
            "_________________________________________________________________\n",
            "Layer (type)                 Output Shape              Param #   \n",
            "=================================================================\n",
            "conv2d_2 (Conv2D)            (None, 26, 26, 32)        320       \n",
            "_________________________________________________________________\n",
            "conv2d_3 (Conv2D)            (None, 24, 24, 64)        18496     \n",
            "_________________________________________________________________\n",
            "max_pooling2d_1 (MaxPooling2 (None, 12, 12, 64)        0         \n",
            "_________________________________________________________________\n",
            "dropout_2 (Dropout)          (None, 12, 12, 64)        0         \n",
            "_________________________________________________________________\n",
            "flatten_1 (Flatten)          (None, 9216)              0         \n",
            "_________________________________________________________________\n",
            "dense_2 (Dense)              (None, 128)               1179776   \n",
            "_________________________________________________________________\n",
            "dropout_3 (Dropout)          (None, 128)               0         \n",
            "_________________________________________________________________\n",
            "dense_3 (Dense)              (None, 10)                1290      \n",
            "=================================================================\n",
            "Total params: 1,199,882\n",
            "Trainable params: 1,199,882\n",
            "Non-trainable params: 0\n",
            "_________________________________________________________________\n"
          ],
          "name": "stdout"
        }
      ]
    },
    {
      "cell_type": "code",
      "metadata": {
        "id": "upT8Bet4emzv",
        "outputId": "4fe5ae8f-b667-4a29-abae-8506ebd44a28",
        "colab": {
          "base_uri": "https://localhost:8080/",
          "height": 357
        }
      },
      "source": [
        "num_epoch = 10\n",
        "batch_size = 128\n",
        "model_log = model.fit(X_train, y_train,\n",
        "          batch_size=batch_size,\n",
        "          epochs=num_epoch,\n",
        "          verbose=1,\n",
        "          validation_data=(X_test, y_test))"
      ],
      "execution_count": 17,
      "outputs": [
        {
          "output_type": "stream",
          "text": [
            "Epoch 1/10\n",
            "469/469 [==============================] - 138s 294ms/step - loss: 0.3688 - accuracy: 0.8867 - val_loss: 0.1765 - val_accuracy: 0.9464\n",
            "Epoch 2/10\n",
            "469/469 [==============================] - 138s 293ms/step - loss: 0.3583 - accuracy: 0.8882 - val_loss: 0.1656 - val_accuracy: 0.9506\n",
            "Epoch 3/10\n",
            "469/469 [==============================] - 142s 304ms/step - loss: 0.3486 - accuracy: 0.8917 - val_loss: 0.1628 - val_accuracy: 0.9499\n",
            "Epoch 4/10\n",
            "469/469 [==============================] - 138s 295ms/step - loss: 0.3407 - accuracy: 0.8952 - val_loss: 0.1601 - val_accuracy: 0.9530\n",
            "Epoch 5/10\n",
            "469/469 [==============================] - 138s 295ms/step - loss: 0.3287 - accuracy: 0.8980 - val_loss: 0.1509 - val_accuracy: 0.9575\n",
            "Epoch 6/10\n",
            "469/469 [==============================] - 139s 296ms/step - loss: 0.3222 - accuracy: 0.9004 - val_loss: 0.1606 - val_accuracy: 0.9516\n",
            "Epoch 7/10\n",
            "469/469 [==============================] - 138s 295ms/step - loss: 0.3139 - accuracy: 0.9035 - val_loss: 0.1416 - val_accuracy: 0.9573\n",
            "Epoch 8/10\n",
            "469/469 [==============================] - 139s 296ms/step - loss: 0.3038 - accuracy: 0.9062 - val_loss: 0.1390 - val_accuracy: 0.9587\n",
            "Epoch 9/10\n",
            "469/469 [==============================] - 140s 298ms/step - loss: 0.2950 - accuracy: 0.9085 - val_loss: 0.1300 - val_accuracy: 0.9603\n",
            "Epoch 10/10\n",
            "469/469 [==============================] - 144s 307ms/step - loss: 0.2860 - accuracy: 0.9118 - val_loss: 0.1320 - val_accuracy: 0.9622\n"
          ],
          "name": "stdout"
        }
      ]
    },
    {
      "cell_type": "code",
      "metadata": {
        "id": "00sy123VfQWQ",
        "outputId": "16dfca8e-f359-43e3-8103-fb44325b4e91",
        "colab": {
          "base_uri": "https://localhost:8080/",
          "height": 51
        }
      },
      "source": [
        "score = model.evaluate(X_test, y_test, verbose=0)\n",
        "print('Test loss:', score[0])\n",
        "print('Test accuracy:', score[1])"
      ],
      "execution_count": 18,
      "outputs": [
        {
          "output_type": "stream",
          "text": [
            "Test loss: 0.13200989365577698\n",
            "Test accuracy: 0.9621999859809875\n"
          ],
          "name": "stdout"
        }
      ]
    }
  ]
}