{
  "nbformat": 4,
  "nbformat_minor": 0,
  "metadata": {
    "colab": {
      "name": "MNIST Digit recognizer",
      "provenance": []
    },
    "kernelspec": {
      "name": "python3",
      "display_name": "Python 3"
    }
  },
  "cells": [
    {
      "cell_type": "markdown",
      "metadata": {
        "id": "c2cUwBtwX-PJ"
      },
      "source": [
        "# Simple MNIST with custom input pipeline\n"
      ]
    },
    {
      "cell_type": "code",
      "metadata": {
        "id": "A7XDy4lfVbXi"
      },
      "source": [
        "from __future__ import absolute_import, division, print_function, unicode_literals\n",
        "\n",
        "# Install TensorFlow\n",
        "try:\n",
        "  # %tensorflow_version only exists in Colab.\n",
        "  %tensorflow_version 2.x\n",
        "except Exception:\n",
        "  pass\n",
        "\n",
        "import tensorflow as tf\n",
        "import cv2\n",
        "import numpy as np\n",
        "import matplotlib.pyplot as plt\n"
      ],
      "execution_count": null,
      "outputs": []
    },
    {
      "cell_type": "code",
      "metadata": {
        "id": "fvFEulK_Vs_9",
        "outputId": "e3dba0c2-4d85-48e0-d50b-f4286434fdc7",
        "colab": {
          "base_uri": "https://localhost:8080/",
          "height": 51
        }
      },
      "source": [
        "mnist = tf.keras.datasets.mnist\n",
        "\n",
        "(x_train, y_train), (x_test, y_test) = mnist.load_data()\n",
        "x_train, x_test = x_train / 255.0, x_test / 255.0\n"
      ],
      "execution_count": null,
      "outputs": [
        {
          "output_type": "stream",
          "text": [
            "Downloading data from https://storage.googleapis.com/tensorflow/tf-keras-datasets/mnist.npz\n",
            "11493376/11490434 [==============================] - 0s 0us/step\n"
          ],
          "name": "stdout"
        }
      ]
    },
    {
      "cell_type": "code",
      "metadata": {
        "id": "_wtXynJSVxzq"
      },
      "source": [
        "model = tf.keras.models.Sequential([\n",
        "  tf.keras.layers.Flatten(input_shape=(28, 28)),\n",
        "  tf.keras.layers.Dense(128, activation='relu'),\n",
        "  tf.keras.layers.Dropout(0.2),\n",
        "  tf.keras.layers.Dense(10, activation='softmax')\n",
        "])\n",
        "\n",
        "model.compile(optimizer='adam',\n",
        "              loss='sparse_categorical_crossentropy',\n",
        "              metrics=['accuracy'])"
      ],
      "execution_count": null,
      "outputs": []
    },
    {
      "cell_type": "code",
      "metadata": {
        "id": "pjkP487TV2GT",
        "outputId": "2b951c20-5ade-4fc9-c1d4-d71d7a4f9f78",
        "colab": {
          "base_uri": "https://localhost:8080/",
          "height": 221
        }
      },
      "source": [
        "model.fit(x_train, y_train, epochs=5)\n",
        "\n",
        "model.evaluate(x_test, y_test)"
      ],
      "execution_count": null,
      "outputs": [
        {
          "output_type": "stream",
          "text": [
            "Epoch 1/5\n",
            "1875/1875 [==============================] - 4s 2ms/step - loss: 0.2976 - accuracy: 0.9131\n",
            "Epoch 2/5\n",
            "1875/1875 [==============================] - 4s 2ms/step - loss: 0.1431 - accuracy: 0.9573\n",
            "Epoch 3/5\n",
            "1875/1875 [==============================] - 4s 2ms/step - loss: 0.1095 - accuracy: 0.9667\n",
            "Epoch 4/5\n",
            "1875/1875 [==============================] - 4s 2ms/step - loss: 0.0884 - accuracy: 0.9726\n",
            "Epoch 5/5\n",
            "1875/1875 [==============================] - 4s 2ms/step - loss: 0.0757 - accuracy: 0.9765\n",
            "313/313 [==============================] - 0s 1ms/step - loss: 0.0752 - accuracy: 0.9758\n"
          ],
          "name": "stdout"
        },
        {
          "output_type": "execute_result",
          "data": {
            "text/plain": [
              "[0.07518520206212997, 0.9757999777793884]"
            ]
          },
          "metadata": {
            "tags": []
          },
          "execution_count": 5
        }
      ]
    },
    {
      "cell_type": "markdown",
      "metadata": {
        "id": "17fr8O7Dbe4w"
      },
      "source": [
        "**Pre-processing new image, import as \"test_image.jpg\"**\n"
      ]
    },
    {
      "cell_type": "code",
      "metadata": {
        "id": "pibfLIl8V4sP",
        "outputId": "4570b2e2-2623-4fba-c3a4-4c9d86ba75f1",
        "colab": {
          "base_uri": "https://localhost:8080/",
          "height": 240
        }
      },
      "source": [
        "image = cv2.imread('./digits.jpg')\n",
        "grey = cv2.cvtColor(image.copy(), cv2.COLOR_BGR2GRAY)\n",
        "ret, thresh = cv2.threshold(grey.copy(), 75, 255, cv2.THRESH_BINARY_INV)\n",
        "contours, _ = cv2.findContours(thresh.copy(), cv2.RETR_EXTERNAL, cv2.CHAIN_APPROX_SIMPLE)\n",
        "preprocessed_digits = []\n",
        "for c in contours:\n",
        "    x,y,w,h = cv2.boundingRect(c)\n",
        "    \n",
        "    # Creating a rectangle around the digit in the original image (for displaying the digits fetched via contours)\n",
        "    cv2.rectangle(image, (x,y), (x+w, y+h), color=(0, 255, 0), thickness=2)\n",
        "    \n",
        "    # Cropping out the digit from the image corresponding to the current contours in the for loop\n",
        "    digit = thresh[y:y+h, x:x+w]\n",
        "    \n",
        "    # Resizing that digit to (18, 18)\n",
        "    resized_digit = cv2.resize(digit, (18,18))\n",
        "    \n",
        "    # Padding the digit with 5 pixels of black color (zeros) in each side to finally produce the image of (28, 28)\n",
        "    padded_digit = np.pad(resized_digit, ((5,5),(5,5)), \"constant\", constant_values=0)\n",
        "    \n",
        "    # Adding the preprocessed digit to the list of preprocessed digits\n",
        "    preprocessed_digits.append(padded_digit)\n",
        "plt.imshow(image, cmap=\"gray\")\n",
        "plt.show()\n",
        "    \n",
        "inp = np.array(preprocessed_digits)\n",
        "len(preprocessed_digits)"
      ],
      "execution_count": null,
      "outputs": [
        {
          "output_type": "display_data",
          "data": {
            "image/png": "[encoded data removed]",
            "text/plain": [
              "<Figure size 432x288 with 1 Axes>"
            ]
          },
          "metadata": {
            "tags": [],
            "needs_background": "light"
          }
        },
        {
          "output_type": "execute_result",
          "data": {
            "text/plain": [
              "3"
            ]
          },
          "metadata": {
            "tags": []
          },
          "execution_count": 10
        }
      ]
    },
    {
      "cell_type": "code",
      "metadata": {
        "id": "z9bzjcxwZHSk",
        "outputId": "e9c14dad-579c-4b14-a591-b00e7e558cd7",
        "colab": {
          "base_uri": "https://localhost:8080/",
          "height": 1000
        }
      },
      "source": [
        "for digit in preprocessed_digits:\n",
        "    prediction = model.predict(digit.reshape(1, 28, 28, 1))  \n",
        "\n",
        "    plt.imshow(digit.reshape(28, 28), cmap=\"gray\")\n",
        "    plt.show()\n",
        "    print(\"\\n\\nFinal Output: {}\".format(np.argmax(prediction)))\n",
        "    \n",
        "    print (\"\\nPrediction (Softmax) from the neural network:\\n\\n {}\".format(prediction))\n",
        "    \n",
        "    hard_maxed_prediction = np.zeros(prediction.shape)\n",
        "    hard_maxed_prediction[0][np.argmax(prediction)] = 1\n",
        "    print (\"\\n\\nHard-maxed form of the prediction: \\n\\n {}\".format(hard_maxed_prediction))\n"
      ],
      "execution_count": null,
      "outputs": [
        {
          "output_type": "display_data",
          "data": {
            "image/png": "[encoded data removed]",
            "text/plain": [
              "<Figure size 432x288 with 1 Axes>"
            ]
          },
          "metadata": {
            "tags": [],
            "needs_background": "light"
          }
        },
        {
          "output_type": "stream",
          "text": [
            "\n",
            "\n",
            "Final Output: 0\n",
            "\n",
            "Prediction (Softmax) from the neural network:\n",
            "\n",
            " [[1. 0. 0. 0. 0. 0. 0. 0. 0. 0.]]\n",
            "\n",
            "\n",
            "Hard-maxed form of the prediction: \n",
            "\n",
            " [[1. 0. 0. 0. 0. 0. 0. 0. 0. 0.]]\n"
          ],
          "name": "stdout"
        },
        {
          "output_type": "display_data",
          "data": {
            "image/png": "[encoded data removed]",
            "text/plain": [
              "<Figure size 432x288 with 1 Axes>"
            ]
          },
          "metadata": {
            "tags": [],
            "needs_background": "light"
          }
        },
        {
          "output_type": "stream",
          "text": [
            "\n",
            "\n",
            "Final Output: 0\n",
            "\n",
            "Prediction (Softmax) from the neural network:\n",
            "\n",
            " [[1. 0. 0. 0. 0. 0. 0. 0. 0. 0.]]\n",
            "\n",
            "\n",
            "Hard-maxed form of the prediction: \n",
            "\n",
            " [[1. 0. 0. 0. 0. 0. 0. 0. 0. 0.]]\n"
          ],
          "name": "stdout"
        },
        {
          "output_type": "display_data",
          "data": {
            "image/png": "[encoded data removed]",
            "text/plain": [
              "<Figure size 432x288 with 1 Axes>"
            ]
          },
          "metadata": {
            "tags": [],
            "needs_background": "light"
          }
        },
        {
          "output_type": "stream",
          "text": [
            "\n",
            "\n",
            "Final Output: 8\n",
            "\n",
            "Prediction (Softmax) from the neural network:\n",
            "\n",
            " [[0.0000000e+00 0.0000000e+00 0.0000000e+00 1.5843871e-07 0.0000000e+00\n",
            "  0.0000000e+00 0.0000000e+00 0.0000000e+00 9.9999988e-01 0.0000000e+00]]\n",
            "\n",
            "\n",
            "Hard-maxed form of the prediction: \n",
            "\n",
            " [[0. 0. 0. 0. 0. 0. 0. 0. 1. 0.]]\n"
          ],
          "name": "stdout"
        }
      ]
    },
    {
      "cell_type": "code",
      "metadata": {
        "id": "S2p1MnoBZYs1"
      },
      "source": [
        ""
      ],
      "execution_count": null,
      "outputs": []
    }
  ]
}